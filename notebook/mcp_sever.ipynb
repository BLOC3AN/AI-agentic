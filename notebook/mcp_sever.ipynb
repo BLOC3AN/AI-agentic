{
 "cells": [
  {
   "cell_type": "code",
   "execution_count": 16,
   "id": "0bf12621",
   "metadata": {},
   "outputs": [],
   "source": [
    "import os\n",
    "from dotenv import load_dotenv \n",
    "from langchain_google_genai import ChatGoogleGenerativeAI\n",
    "from langchain_core.messages import HumanMessage, SystemMessage\n",
    "\n",
    "load_dotenv()\n",
    "google_api_key = os.getenv(\"GOOGLE_API_KEY\")\n",
    "if not google_api_key:\n",
    "    print(\"Cảnh báo: GOOGLE_API_KEY không được tìm thấy trong biến môi trường.\")\n",
    "    print(\"Vui lòng đảm bảo bạn đã đặt nó trong file .env hoặc thiết lập thủ công.\")\n",
    "\n",
    "llm = ChatGoogleGenerativeAI(model=\"gemini-2.0-flash\")"
   ]
  },
  {
   "cell_type": "markdown",
   "id": "f747ce54",
   "metadata": {},
   "source": [
    "# Connect to Google Sheet\n"
   ]
  },
  {
   "cell_type": "code",
   "execution_count": null,
   "id": "849e915d",
   "metadata": {},
   "outputs": [
    {
     "name": "stdout",
     "output_type": "stream",
     "text": [
      "['Date', 'Completed', 'In Progress', 'Next Steps', 'Blockers']\n"
     ]
    }
   ],
   "source": [
    "import gspread #type:ignore\n",
    "from oauth2client.service_account import ServiceAccountCredentials\n",
    "\n",
    "# Xác thực\n",
    "scope = [\"https://spreadsheets.google.com/feeds\", \"https://www.googleapis.com/auth/drive\"]\n",
    "creds = ServiceAccountCredentials.from_json_keyfile_name(\"/home/hai/mcp-sever/gen-lang-client-0447346298-52beea69cd6f.json\", scope)\n",
    "client = gspread.authorize(creds)\n",
    "\n",
    "# Mở Google Sheet\n",
    "sheet = client.open(\"Daily Report\").sheet1\n",
    "# Lấy dữ liệu hàng đầu tiên\n",
    "data = sheet.get_all_values()\n",
    "print(data[0])\n"
   ]
  },
  {
   "cell_type": "markdown",
   "id": "f10c6a6d",
   "metadata": {},
   "source": [
    "# Create tool for Google Sheets"
   ]
  },
  {
   "cell_type": "code",
   "execution_count": 9,
   "id": "2dd9b38f",
   "metadata": {},
   "outputs": [],
   "source": [
    "from langchain.tools import Tool\n",
    "\n",
    "def read_sheet_data(query: str) -> str:\n",
    "    # có thể thêm logic xử lý `query` để đọc theo yêu cầu\n",
    "    values = sheet.get_all_values()\n",
    "    return str(values[:5])  # trả về 5 dòng đầu\n",
    "\n",
    "google_sheet_tool = Tool(\n",
    "    name=\"GoogleSheetReader\",\n",
    "    func=read_sheet_data,\n",
    "    description=\"Dùng để đọc dữ liệu từ Google Sheets\"\n",
    ")\n"
   ]
  },
  {
   "cell_type": "markdown",
   "id": "f19d40d0",
   "metadata": {},
   "source": [
    "# Run Agent"
   ]
  },
  {
   "cell_type": "code",
   "execution_count": 17,
   "id": "2ee8ee79",
   "metadata": {},
   "outputs": [
    {
     "name": "stdout",
     "output_type": "stream",
     "text": [
      "\n",
      "\n",
      "\u001b[1m> Entering new AgentExecutor chain...\u001b[0m\n",
      "\u001b[32;1m\u001b[1;3mOkay, I need to write a report based on the most recent date in the Google Sheet. To do this, I'll first need to get the data from the Google Sheet. I'll use a query to retrieve all the data, then find the entry with the most recent date. After that, I will format the output according to the example in the prompt.\n",
      "Action: GoogleSheetReader\n",
      "Action Input: SELECT *\u001b[0m\n",
      "Observation: \u001b[36;1m\u001b[1;3m[['Date', 'Completed', 'In Progress', 'Next Steps', 'Blockers'], ['27/03/2025', '- Onboard\\n- Researching about Promting, Agents\\n- Prompting for Split task Agent, Booking Agent base on sources ', '- Optimize prompt slit task agent  ', '- Prompting about CS and Findtasker Agents ', 'None']]\u001b[0m\n",
      "Thought:\u001b[32;1m\u001b[1;3mI have the data from the Google Sheet. The first row is the header row, and the second row contains the actual data. The date is '27/03/2025'. Now I need to format the report according to the example.\n",
      "Action: GoogleSheetReader\n",
      "Action Input: SELECT Completed, `In Progress`, `Next Steps`, Blockers WHERE Date = '27/03/2025'\u001b[0m\n",
      "Observation: \u001b[36;1m\u001b[1;3m[['Date', 'Completed', 'In Progress', 'Next Steps', 'Blockers'], ['27/03/2025', '- Onboard\\n- Researching about Promting, Agents\\n- Prompting for Split task Agent, Booking Agent base on sources ', '- Optimize prompt slit task agent  ', '- Prompting about CS and Findtasker Agents ', 'None']]\u001b[0m\n",
      "Thought:\u001b[32;1m\u001b[1;3mI have the data from the Google Sheet. I need to format the report according to the example.\n",
      "Action: GoogleSheetReader\n",
      "Action Input: SELECT *\u001b[0m\n",
      "Observation: \u001b[36;1m\u001b[1;3m[['Date', 'Completed', 'In Progress', 'Next Steps', 'Blockers'], ['27/03/2025', '- Onboard\\n- Researching about Promting, Agents\\n- Prompting for Split task Agent, Booking Agent base on sources ', '- Optimize prompt slit task agent  ', '- Prompting about CS and Findtasker Agents ', 'None']]\u001b[0m\n",
      "Thought:\u001b[32;1m\u001b[1;3mI have the data from the Google Sheet. The first row is the header row, and the second row contains the actual data. The date is '27/03/2025'. Now I need to format the report according to the example.\n",
      "Final Answer:\n",
      "Date: 27/03/2025\n",
      "Completed:\n",
      "- Onboard\n",
      "- Researching about Promting, Agents\n",
      "- Prompting for Split task Agent, Booking Agent base on sources\n",
      "In Progress:\n",
      "- Optimize prompt slit task agent\n",
      "Next Steps:\n",
      "- Prompting about CS and Findtasker Agents\n",
      "Blockers:\n",
      "- None\u001b[0m\n",
      "\n",
      "\u001b[1m> Finished chain.\u001b[0m\n"
     ]
    },
    {
     "data": {
      "text/plain": [
       "'Date: 27/03/2025\\nCompleted:\\n- Onboard\\n- Researching about Promting, Agents\\n- Prompting for Split task Agent, Booking Agent base on sources\\nIn Progress:\\n- Optimize prompt slit task agent\\nNext Steps:\\n- Prompting about CS and Findtasker Agents\\nBlockers:\\n- None'"
      ]
     },
     "execution_count": 17,
     "metadata": {},
     "output_type": "execute_result"
    }
   ],
   "source": [
    "from langchain.agents import initialize_agent, AgentType\n",
    "from langchain_google_genai import ChatGoogleGenerativeAI\n",
    "\n",
    "llm = ChatGoogleGenerativeAI(model=\"gemini-2.0-flash\")\n",
    "\n",
    "agent = initialize_agent(\n",
    "    tools=[google_sheet_tool],\n",
    "    llm=llm,\n",
    "    agent=AgentType.ZERO_SHOT_REACT_DESCRIPTION,\n",
    "    verbose=True\n",
    ")\n",
    "\n",
    "agent.run(\"\"\"\n",
    "Viết báo cáo cho tôi lấy ngày báo cáo mới nhất trong sheet đó dựa trên format: \n",
    "    Date: 27/03/2025\n",
    "    Completed:\n",
    "    - [Build POC Agentic AI] Test full flow with LLM-local\n",
    "    - [Build POC Agentic AI]: Run Weaviate in container, chunk btaskee documents, implement with Customer support Agent\n",
    "    - [Urgent meeting] Mongodb issues\n",
    "    - Support member, review code.\n",
    "    In Progress:\n",
    "    - [Split database] new and old BE, verify scenario\n",
    "    Next Steps:\n",
    "    - [Build POC Agentic AI] Optimize Prompt\n",
    "    Blockers:\n",
    "    - None \n",
    "\"\"\")\n"
   ]
  },
  {
   "cell_type": "code",
   "execution_count": null,
   "id": "49190ea0",
   "metadata": {},
   "outputs": [],
   "source": []
  }
 ],
 "metadata": {
  "kernelspec": {
   "display_name": "mcp_sever",
   "language": "python",
   "name": "mcp_sever"
  },
  "language_info": {
   "codemirror_mode": {
    "name": "ipython",
    "version": 3
   },
   "file_extension": ".py",
   "mimetype": "text/x-python",
   "name": "python",
   "nbconvert_exporter": "python",
   "pygments_lexer": "ipython3",
   "version": "3.10.12"
  }
 },
 "nbformat": 4,
 "nbformat_minor": 5
}
